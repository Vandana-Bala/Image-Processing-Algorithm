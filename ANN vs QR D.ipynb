{
 "cells": [
  {
   "cell_type": "code",
   "execution_count": 1,
   "id": "3507cfa9",
   "metadata": {},
   "outputs": [],
   "source": [
    "# Back propagation Neural Network\n",
    "\n",
    "\n",
    "#        Inputs                     Output\n",
    "#    0     0    1                      0\n",
    "#    1     1    1                      1\n",
    "#    1     0    1                      1\n",
    "#    0     1    1                      0"
   ]
  },
  {
   "cell_type": "code",
   "execution_count": 2,
   "id": "8cf8fa77",
   "metadata": {},
   "outputs": [],
   "source": [
    "import numpy as np\n",
    "import matplotlib.pyplot as plt\n",
    "import pandas as pd"
   ]
  },
  {
   "cell_type": "code",
   "execution_count": 4,
   "id": "b53ce669",
   "metadata": {},
   "outputs": [],
   "source": [
    "# sigmoid function\n",
    "\n",
    "def nlinear(x,deriv=False):\n",
    "    if(deriv==True):\n",
    "        return x*(1-x)\n",
    "    return 1/(1+np.exp(-x))\n"
   ]
  },
  {
   "cell_type": "code",
   "execution_count": 5,
   "id": "ea7ec5c4",
   "metadata": {},
   "outputs": [],
   "source": [
    "# input dataset\n",
    "\n",
    "\n",
    "X=np.array([[0,0,1],\n",
    "            [0,1,1],\n",
    "            [1,0,1],\n",
    "            [1,1,1]])\n",
    "\n",
    "# output dataset\n",
    "\n",
    "y=np.array([[0,0,1,1]]).T\n",
    "\n",
    "# seed random numbers for random distributions\n",
    "\n",
    "np.random.seed(1)\n",
    "\n",
    "synapse0=2*np.random.random((3,1))-1\n",
    "synapsecopy=synapse0"
   ]
  },
  {
   "cell_type": "code",
   "execution_count": 6,
   "id": "bcff63cb",
   "metadata": {},
   "outputs": [],
   "source": [
    "for i in range(1000):\n",
    "    \n",
    "    # forward propagation\n",
    "    \n",
    "    layer0=X\n",
    "    layer1=nlinear(np.dot(layer0,synapse0))\n",
    "    \n",
    "    #calculate\n",
    "    \n",
    "    layer1_error=y-layer1\n",
    "    \n",
    "    #multiplying how much error backpropagated\n",
    "    # slope of the sigmoid at the values in layer 1\n",
    "    \n",
    "    layer1_delta= layer1_error*nlinear(layer1,True)\n",
    "    \n",
    "    # update weights as per the errors backpropagates\n",
    "    synapse0+=np.dot(layer0.T,layer1_delta)\n"
   ]
  },
  {
   "cell_type": "code",
   "execution_count": 7,
   "id": "81c3b939",
   "metadata": {},
   "outputs": [
    {
     "name": "stdout",
     "output_type": "stream",
     "text": [
      "Output:\n",
      "[[0.03178421]\n",
      " [0.02576499]\n",
      " [0.97906682]\n",
      " [0.97414645]]\n",
      "Actual Output\n",
      "[[0]\n",
      " [0]\n",
      " [1]\n",
      " [1]]\n"
     ]
    }
   ],
   "source": [
    "print(\"Output:\")\n",
    "print(layer1)\n",
    "print(\"Actual Output\")\n",
    "print(y)"
   ]
  },
  {
   "cell_type": "code",
   "execution_count": 8,
   "id": "d391a585",
   "metadata": {},
   "outputs": [
    {
     "data": {
      "text/plain": [
       "array([[0, 0, 1],\n",
       "       [0, 1, 1],\n",
       "       [1, 0, 1],\n",
       "       [1, 1, 1]])"
      ]
     },
     "execution_count": 8,
     "metadata": {},
     "output_type": "execute_result"
    }
   ],
   "source": [
    "layer0"
   ]
  },
  {
   "cell_type": "code",
   "execution_count": 13,
   "id": "cd4994a5",
   "metadata": {},
   "outputs": [
    {
     "data": {
      "text/plain": [
       "array([[ 7.26283009],\n",
       "       [-0.21614618],\n",
       "       [-3.41703015]])"
      ]
     },
     "execution_count": 13,
     "metadata": {},
     "output_type": "execute_result"
    }
   ],
   "source": [
    "synapse0"
   ]
  },
  {
   "cell_type": "code",
   "execution_count": 19,
   "id": "d64815d9",
   "metadata": {},
   "outputs": [
    {
     "name": "stdout",
     "output_type": "stream",
     "text": [
      "\n",
      "Q= [[-0.90452786]\n",
      " [ 0.02691929]\n",
      " [ 0.42556399]] \n",
      "\n",
      "R= [[-8.02941562]]\n"
     ]
    }
   ],
   "source": [
    "Q,R=np.linalg.qr(synapsecopy)\n",
    "print(\"\\nQ=\", Q, \"\\n\\nR=\", R)"
   ]
  },
  {
   "cell_type": "code",
   "execution_count": 20,
   "id": "000803b5",
   "metadata": {},
   "outputs": [
    {
     "data": {
      "text/plain": [
       "array([[ 7.26283009],\n",
       "       [-0.21614618],\n",
       "       [-3.41703015]])"
      ]
     },
     "execution_count": 20,
     "metadata": {},
     "output_type": "execute_result"
    }
   ],
   "source": [
    "decompose=Q*R\n",
    "decompose"
   ]
  },
  {
   "cell_type": "code",
   "execution_count": 21,
   "id": "2183d9e7",
   "metadata": {},
   "outputs": [
    {
     "data": {
      "text/plain": [
       "array([[0.03176745],\n",
       "       [0.02575143],\n",
       "       [0.97907779],\n",
       "       [0.97416005]])"
      ]
     },
     "execution_count": 21,
     "metadata": {},
     "output_type": "execute_result"
    }
   ],
   "source": [
    "layer1=nlinear(np.dot(layer0,decompose))\n",
    "layer1"
   ]
  }
 ],
 "metadata": {
  "kernelspec": {
   "display_name": "Python 3 (ipykernel)",
   "language": "python",
   "name": "python3"
  },
  "language_info": {
   "codemirror_mode": {
    "name": "ipython",
    "version": 3
   },
   "file_extension": ".py",
   "mimetype": "text/x-python",
   "name": "python",
   "nbconvert_exporter": "python",
   "pygments_lexer": "ipython3",
   "version": "3.9.7"
  }
 },
 "nbformat": 4,
 "nbformat_minor": 5
}
